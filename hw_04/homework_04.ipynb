{
 "cells": [
  {
   "cell_type": "code",
   "execution_count": 103,
   "id": "749ccd2f",
   "metadata": {},
   "outputs": [],
   "source": [
    "import pandas as pd\n",
    "import numpy as np\n",
    "import seaborn as sns\n",
    "from sklearn.model_selection import train_test_split\n",
    "from sklearn.metrics import mutual_info_score\n",
    "from sklearn.linear_model import LogisticRegression\n",
    "from sklearn.feature_extraction import DictVectorizer\n",
    "from sklearn.metrics import precision_score, recall_score, roc_auc_score, f1_score\n",
    "from sklearn.preprocessing import StandardScaler\n",
    "import matplotlib.pyplot as plt\n",
    "from sklearn.model_selection import KFold\n",
    "from tqdm.auto import tqdm\n",
    "\n",
    "\n",
    "\n",
    "\n",
    "\n",
    "\n"
   ]
  },
  {
   "cell_type": "markdown",
   "id": "a840ed26",
   "metadata": {},
   "source": [
    "Download and prepare data like in previous sessions"
   ]
  },
  {
   "cell_type": "code",
   "execution_count": 104,
   "id": "d6089441",
   "metadata": {},
   "outputs": [],
   "source": [
    "lead_scoring_df = pd.read_csv('https://raw.githubusercontent.com/alexeygrigorev/datasets/master/course_lead_scoring.csv')"
   ]
  },
  {
   "cell_type": "code",
   "execution_count": 105,
   "id": "853f1b43",
   "metadata": {},
   "outputs": [],
   "source": [
    "# For categorical features, replace them with 'NA'\n",
    "# For numerical features, replace with with 0.0\n",
    "lead_scoring_df.lead_source = lead_scoring_df.lead_source.fillna('NA')\n",
    "lead_scoring_df.industry = lead_scoring_df.industry.fillna('NA')\n",
    "lead_scoring_df.employment_status = lead_scoring_df.employment_status.fillna('NA')\n",
    "lead_scoring_df.location = lead_scoring_df.location.fillna('NA')\n",
    "lead_scoring_df.annual_income = lead_scoring_df.annual_income.fillna(0.0)"
   ]
  },
  {
   "cell_type": "code",
   "execution_count": 106,
   "id": "ed05848c",
   "metadata": {},
   "outputs": [],
   "source": [
    "categorical = ['lead_source', 'industry', 'employment_status', 'location']\n",
    "numerical = ['number_of_courses_viewed', 'annual_income', 'interaction_count', 'lead_score']"
   ]
  },
  {
   "cell_type": "code",
   "execution_count": 107,
   "id": "644fc73d",
   "metadata": {},
   "outputs": [],
   "source": [
    "### train and test split\n",
    "df_full_train, df_test = train_test_split(lead_scoring_df, test_size=0.2, random_state=1)\n",
    "df_train, df_val = train_test_split(df_full_train, test_size=0.25, random_state=1)\n",
    "\n",
    "df_train = df_train.reset_index(drop=True)\n",
    "df_val = df_val.reset_index(drop=True)\n",
    "df_test = df_test.reset_index(drop=True)\n",
    "\n",
    "y_train = df_train.converted.values\n",
    "y_val = df_val.converted.values\n",
    "y_test = df_test.converted.values\n",
    "\n",
    "del df_train['converted']\n",
    "del df_val['converted']\n",
    "del df_test['converted']"
   ]
  },
  {
   "cell_type": "code",
   "execution_count": 108,
   "id": "967adc2f",
   "metadata": {},
   "outputs": [],
   "source": [
    "roc_dict = {}\n",
    "\n",
    "for column in numerical:\n",
    "\n",
    "    roc_dict[column] = roc_auc_score(y_train, df_train[column])\n",
    "\n",
    "    "
   ]
  },
  {
   "cell_type": "code",
   "execution_count": 109,
   "id": "31b7bb1a",
   "metadata": {},
   "outputs": [
    {
     "data": {
      "text/html": [
       "<div>\n",
       "<style scoped>\n",
       "    .dataframe tbody tr th:only-of-type {\n",
       "        vertical-align: middle;\n",
       "    }\n",
       "\n",
       "    .dataframe tbody tr th {\n",
       "        vertical-align: top;\n",
       "    }\n",
       "\n",
       "    .dataframe thead th {\n",
       "        text-align: right;\n",
       "    }\n",
       "</style>\n",
       "<table border=\"1\" class=\"dataframe\">\n",
       "  <thead>\n",
       "    <tr style=\"text-align: right;\">\n",
       "      <th></th>\n",
       "      <th>0</th>\n",
       "    </tr>\n",
       "  </thead>\n",
       "  <tbody>\n",
       "    <tr>\n",
       "      <th>annual_income</th>\n",
       "      <td>0.551958</td>\n",
       "    </tr>\n",
       "    <tr>\n",
       "      <th>lead_score</th>\n",
       "      <td>0.614499</td>\n",
       "    </tr>\n",
       "    <tr>\n",
       "      <th>interaction_count</th>\n",
       "      <td>0.738270</td>\n",
       "    </tr>\n",
       "    <tr>\n",
       "      <th>number_of_courses_viewed</th>\n",
       "      <td>0.763568</td>\n",
       "    </tr>\n",
       "  </tbody>\n",
       "</table>\n",
       "</div>"
      ],
      "text/plain": [
       "                                 0\n",
       "annual_income             0.551958\n",
       "lead_score                0.614499\n",
       "interaction_count         0.738270\n",
       "number_of_courses_viewed  0.763568"
      ]
     },
     "execution_count": 109,
     "metadata": {},
     "output_type": "execute_result"
    }
   ],
   "source": [
    "pd.DataFrame.from_dict(roc_dict, orient='index').sort_values(by=0)"
   ]
  },
  {
   "cell_type": "code",
   "execution_count": 110,
   "id": "3e2b41a4",
   "metadata": {},
   "outputs": [],
   "source": [
    "### prepare data\n",
    "\n",
    "# scaling\n",
    "scaler = StandardScaler()\n",
    "\n",
    "df_train[numerical] = scaler.fit_transform(df_train[numerical])\n",
    "df_val[numerical] = scaler.fit_transform(df_val[numerical])\n",
    "\n",
    "# one hot encoding\n",
    "dv = DictVectorizer(sparse=False)\n",
    "\n",
    "train_dict = df_train[categorical + numerical].to_dict(orient='records')\n",
    "X_train = dv.fit_transform(train_dict)\n",
    "\n",
    "val_dict = df_val[categorical + numerical].to_dict(orient='records')\n",
    "X_val = dv.transform(val_dict)\n",
    "\n",
    "#### train model\n",
    "model = LogisticRegression(solver='liblinear', C=1.0, max_iter=1000)\n",
    "model.fit(X_train, y_train)\n",
    "\n",
    "### predictions\n",
    "y_pred = model.predict_proba(X_val)[:, 1]\n",
    "\n",
    "\n"
   ]
  },
  {
   "cell_type": "code",
   "execution_count": 111,
   "id": "dc494270",
   "metadata": {},
   "outputs": [
    {
     "data": {
      "text/plain": [
       "0.9202856868948327"
      ]
     },
     "execution_count": 111,
     "metadata": {},
     "output_type": "execute_result"
    }
   ],
   "source": [
    "roc_auc_score(y_val, y_pred)"
   ]
  },
  {
   "cell_type": "code",
   "execution_count": 112,
   "id": "bfb8441d",
   "metadata": {},
   "outputs": [],
   "source": [
    "thresholds = np.linspace(0, 1, 101)  # 0.00, 0.01, ..., 1.00\n",
    "\n",
    "precisions = []\n",
    "recalls = []\n",
    "f1_scores = []\n",
    "\n",
    "# 2. Compute precision & recall at each threshold\n",
    "for t in thresholds:\n",
    "    predictions = (y_pred >= t).astype(int)\n",
    "    precisions.append(precision_score(y_val, predictions, zero_division=0))\n",
    "    recalls.append(recall_score(y_val, predictions, zero_division=0))\n",
    "    f1_scores.append(f1_score(y_val, predictions, zero_division=0))\n",
    "\n",
    "precisions = np.array(precisions)\n",
    "recalls = np.array(recalls)"
   ]
  },
  {
   "cell_type": "code",
   "execution_count": 113,
   "id": "0aa03e20",
   "metadata": {},
   "outputs": [
    {
     "data": {
      "image/png": "[encoded data removed]",
      "text/plain": [
       "<Figure size 1000x600 with 1 Axes>"
      ]
     },
     "metadata": {},
     "output_type": "display_data"
    }
   ],
   "source": [
    "%matplotlib inline\n",
    "\n",
    "plt.figure(figsize=(10,6))\n",
    "plt.plot(thresholds, precisions, label='Precision')\n",
    "plt.plot(thresholds, recalls, label='Recall')\n",
    "plt.plot(thresholds, f1_scores, label='F1 Score', linewidth=3)\n",
    "plt.xlabel('Threshold')\n",
    "plt.ylabel('Score')\n",
    "plt.title('Precision, Recall, and F1 vs Threshold')\n",
    "plt.legend()\n",
    "plt.grid(True)\n",
    "plt.show()"
   ]
  },
  {
   "cell_type": "code",
   "execution_count": 114,
   "id": "17007b43",
   "metadata": {},
   "outputs": [
    {
     "name": "stdout",
     "output_type": "stream",
     "text": [
      "Best Threshold: 0.540\n",
      "F1 Score at Best Threshold: 0.880\n",
      "Precision: 0.882\n",
      "Recall:    0.877\n"
     ]
    }
   ],
   "source": [
    "best_idx = np.argmax(f1_scores)\n",
    "best_threshold = thresholds[best_idx]\n",
    "best_f1 = f1_scores[best_idx]\n",
    "best_precision = precisions[best_idx]\n",
    "best_recall = recalls[best_idx]\n",
    "\n",
    "print(f\"Best Threshold: {best_threshold:.3f}\")\n",
    "print(f\"F1 Score at Best Threshold: {best_f1:.3f}\")\n",
    "print(f\"Precision: {best_precision:.3f}\")\n",
    "print(f\"Recall:    {best_recall:.3f}\")"
   ]
  },
  {
   "cell_type": "code",
   "execution_count": 115,
   "id": "6b6ee1a6",
   "metadata": {},
   "outputs": [],
   "source": [
    "def train(df_train, y_train, C=1.0):\n",
    "    dicts = df_train[categorical + numerical].to_dict(orient='records')\n",
    "\n",
    "    dv = DictVectorizer(sparse=False)\n",
    "    X_train = dv.fit_transform(dicts)\n",
    "\n",
    "    model = LogisticRegression(solver='liblinear', C=C, max_iter=1000)\n",
    "    model.fit(X_train, y_train)\n",
    "    \n",
    "    return dv, model\n",
    "\n",
    "def predict(df, dv, model):\n",
    "    dicts = df[categorical + numerical].to_dict(orient='records')\n",
    "\n",
    "    X = dv.transform(dicts)\n",
    "    y_pred = model.predict_proba(X)[:, 1]\n",
    "\n",
    "    return y_pred"
   ]
  },
  {
   "cell_type": "code",
   "execution_count": null,
   "id": "5322a23c",
   "metadata": {},
   "outputs": [],
   "source": []
  },
  {
   "cell_type": "code",
   "execution_count": 116,
   "id": "78a45624",
   "metadata": {},
   "outputs": [],
   "source": [
    "n_splits = 5\n",
    "scores = []\n",
    "kfold = KFold(n_splits=n_splits, shuffle=True, random_state=1)\n",
    "\n",
    "for train_idx, val_idx in kfold.split(df_full_train):\n",
    "    df_train = df_full_train.iloc[train_idx].copy()\n",
    "    df_val = df_full_train.iloc[val_idx].copy()\n",
    "\n",
    "    y_train = df_train.converted.values\n",
    "    y_val = df_val.converted.values\n",
    "\n",
    "    del df_train['converted']\n",
    "    del df_val['converted']\n",
    "\n",
    "    scaler = StandardScaler()\n",
    "\n",
    "    df_train[numerical] = scaler.fit_transform(df_train[numerical])\n",
    "    df_val[numerical] = scaler.fit_transform(df_val[numerical])\n",
    "\n",
    "    \n",
    "\n",
    "    dv, model = train(df_train, y_train, C=1.0)\n",
    "    y_pred = predict(df_val, dv, model)\n",
    "\n",
    "    auc = roc_auc_score(y_val, y_pred)\n",
    "    scores.append(auc)\n"
   ]
  },
  {
   "cell_type": "code",
   "execution_count": 117,
   "id": "d77f7a27",
   "metadata": {},
   "outputs": [
    {
     "data": {
      "text/plain": [
       "np.float64(0.010644323739545856)"
      ]
     },
     "execution_count": 117,
     "metadata": {},
     "output_type": "execute_result"
    }
   ],
   "source": [
    "np.std(scores)"
   ]
  },
  {
   "cell_type": "code",
   "execution_count": 118,
   "id": "690fab12",
   "metadata": {},
   "outputs": [
    {
     "data": {
      "application/vnd.jupyter.widget-view+json": {
       "model_id": "08884511f1274ab5a3f308286b02c26d",
       "version_major": 2,
       "version_minor": 0
      },
      "text/plain": [
       "  0%|          | 0/3 [00:00<?, ?it/s]"
      ]
     },
     "metadata": {},
     "output_type": "display_data"
    },
    {
     "name": "stdout",
     "output_type": "stream",
     "text": [
      "C=1e-06 0.911 +- 0.015\n",
      "C=0.001 0.909 +- 0.015\n",
      "C=1 0.912 +- 0.015\n"
     ]
    }
   ],
   "source": [
    "n_splits = 5\n",
    "\n",
    "for C in tqdm([0.000001, 0.001, 1]):\n",
    "    \n",
    "    kfold = KFold(n_splits=n_splits, shuffle=True, random_state=1)\n",
    "\n",
    "    for train_idx, val_idx in kfold.split(df_full_train):\n",
    "        df_train = df_full_train.iloc[train_idx].copy()\n",
    "        df_val = df_full_train.iloc[val_idx].copy()\n",
    "\n",
    "        y_train = df_train.converted.values\n",
    "        y_val = df_val.converted.values\n",
    "\n",
    "        del df_train['converted']\n",
    "        del df_val['converted']\n",
    "\n",
    "        scaler = StandardScaler()\n",
    "\n",
    "        df_train[numerical] = scaler.fit_transform(df_train[numerical])\n",
    "        df_val[numerical] = scaler.fit_transform(df_val[numerical])\n",
    "\n",
    "        \n",
    "\n",
    "        dv, model = train(df_train, y_train, C=C)\n",
    "        y_pred = predict(df_val, dv, model)\n",
    "\n",
    "        auc = roc_auc_score(y_val, y_pred)\n",
    "        scores.append(auc)\n",
    "\n",
    "    print('C=%s %.3f +- %.3f' % (C, np.mean(scores), np.std(scores)))"
   ]
  }
 ],
 "metadata": {
  "kernelspec": {
   "display_name": "Python 3",
   "language": "python",
   "name": "python3"
  },
  "language_info": {
   "codemirror_mode": {
    "name": "ipython",
    "version": 3
   },
   "file_extension": ".py",
   "mimetype": "text/x-python",
   "name": "python",
   "nbconvert_exporter": "python",
   "pygments_lexer": "ipython3",
   "version": "3.12.1"
  }
 },
 "nbformat": 4,
 "nbformat_minor": 5
}
