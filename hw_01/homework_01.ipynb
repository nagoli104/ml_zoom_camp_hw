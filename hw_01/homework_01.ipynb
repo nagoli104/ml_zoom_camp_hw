{
 "cells": [
  {
   "cell_type": "code",
   "execution_count": 75,
   "id": "aee33aaf-eb49-41e1-a630-10f7e8e8bba4",
   "metadata": {},
   "outputs": [],
   "source": [
    "import pandas as pd\n",
    "import numpy as np"
   ]
  },
  {
   "cell_type": "markdown",
   "id": "b648e503-2cfa-409e-90ee-77d2a58192a1",
   "metadata": {},
   "source": [
    "Q1. Pandas version"
   ]
  },
  {
   "cell_type": "code",
   "execution_count": 4,
   "id": "ee9f33bc-4f6b-431e-9955-fb609447873c",
   "metadata": {},
   "outputs": [
    {
     "data": {
      "text/plain": [
       "'2.3.1'"
      ]
     },
     "execution_count": 4,
     "metadata": {},
     "output_type": "execute_result"
    }
   ],
   "source": [
    "pd.__version__"
   ]
  },
  {
   "cell_type": "markdown",
   "id": "0e153958-4adf-404b-9b20-b78ef68aad66",
   "metadata": {},
   "source": [
    "load data set"
   ]
  },
  {
   "cell_type": "code",
   "execution_count": 3,
   "id": "afc62566-9fad-4c13-88de-56b47a7aeb20",
   "metadata": {},
   "outputs": [],
   "source": [
    "fuel_effic_df = pd.read_csv('https://raw.githubusercontent.com/alexeygrigorev/datasets/master/car_fuel_efficiency.csv')"
   ]
  },
  {
   "cell_type": "code",
   "execution_count": 8,
   "id": "d95bd51d-7312-4309-b355-acdcf3b665d0",
   "metadata": {},
   "outputs": [
    {
     "data": {
      "text/html": [
       "<div>\n",
       "<style scoped>\n",
       "    .dataframe tbody tr th:only-of-type {\n",
       "        vertical-align: middle;\n",
       "    }\n",
       "\n",
       "    .dataframe tbody tr th {\n",
       "        vertical-align: top;\n",
       "    }\n",
       "\n",
       "    .dataframe thead th {\n",
       "        text-align: right;\n",
       "    }\n",
       "</style>\n",
       "<table border=\"1\" class=\"dataframe\">\n",
       "  <thead>\n",
       "    <tr style=\"text-align: right;\">\n",
       "      <th></th>\n",
       "      <th>engine_displacement</th>\n",
       "      <th>num_cylinders</th>\n",
       "      <th>horsepower</th>\n",
       "      <th>vehicle_weight</th>\n",
       "      <th>acceleration</th>\n",
       "      <th>model_year</th>\n",
       "      <th>origin</th>\n",
       "      <th>fuel_type</th>\n",
       "      <th>drivetrain</th>\n",
       "      <th>num_doors</th>\n",
       "      <th>fuel_efficiency_mpg</th>\n",
       "    </tr>\n",
       "  </thead>\n",
       "  <tbody>\n",
       "    <tr>\n",
       "      <th>0</th>\n",
       "      <td>170</td>\n",
       "      <td>3.0</td>\n",
       "      <td>159.0</td>\n",
       "      <td>3413.433759</td>\n",
       "      <td>17.7</td>\n",
       "      <td>2003</td>\n",
       "      <td>Europe</td>\n",
       "      <td>Gasoline</td>\n",
       "      <td>All-wheel drive</td>\n",
       "      <td>0.0</td>\n",
       "      <td>13.231729</td>\n",
       "    </tr>\n",
       "    <tr>\n",
       "      <th>1</th>\n",
       "      <td>130</td>\n",
       "      <td>5.0</td>\n",
       "      <td>97.0</td>\n",
       "      <td>3149.664934</td>\n",
       "      <td>17.8</td>\n",
       "      <td>2007</td>\n",
       "      <td>USA</td>\n",
       "      <td>Gasoline</td>\n",
       "      <td>Front-wheel drive</td>\n",
       "      <td>0.0</td>\n",
       "      <td>13.688217</td>\n",
       "    </tr>\n",
       "    <tr>\n",
       "      <th>2</th>\n",
       "      <td>170</td>\n",
       "      <td>NaN</td>\n",
       "      <td>78.0</td>\n",
       "      <td>3079.038997</td>\n",
       "      <td>15.1</td>\n",
       "      <td>2018</td>\n",
       "      <td>Europe</td>\n",
       "      <td>Gasoline</td>\n",
       "      <td>Front-wheel drive</td>\n",
       "      <td>0.0</td>\n",
       "      <td>14.246341</td>\n",
       "    </tr>\n",
       "    <tr>\n",
       "      <th>3</th>\n",
       "      <td>220</td>\n",
       "      <td>4.0</td>\n",
       "      <td>NaN</td>\n",
       "      <td>2542.392402</td>\n",
       "      <td>20.2</td>\n",
       "      <td>2009</td>\n",
       "      <td>USA</td>\n",
       "      <td>Diesel</td>\n",
       "      <td>All-wheel drive</td>\n",
       "      <td>2.0</td>\n",
       "      <td>16.912736</td>\n",
       "    </tr>\n",
       "    <tr>\n",
       "      <th>4</th>\n",
       "      <td>210</td>\n",
       "      <td>1.0</td>\n",
       "      <td>140.0</td>\n",
       "      <td>3460.870990</td>\n",
       "      <td>14.4</td>\n",
       "      <td>2009</td>\n",
       "      <td>Europe</td>\n",
       "      <td>Gasoline</td>\n",
       "      <td>All-wheel drive</td>\n",
       "      <td>2.0</td>\n",
       "      <td>12.488369</td>\n",
       "    </tr>\n",
       "  </tbody>\n",
       "</table>\n",
       "</div>"
      ],
      "text/plain": [
       "   engine_displacement  num_cylinders  horsepower  vehicle_weight  \\\n",
       "0                  170            3.0       159.0     3413.433759   \n",
       "1                  130            5.0        97.0     3149.664934   \n",
       "2                  170            NaN        78.0     3079.038997   \n",
       "3                  220            4.0         NaN     2542.392402   \n",
       "4                  210            1.0       140.0     3460.870990   \n",
       "\n",
       "   acceleration  model_year  origin fuel_type         drivetrain  num_doors  \\\n",
       "0          17.7        2003  Europe  Gasoline    All-wheel drive        0.0   \n",
       "1          17.8        2007     USA  Gasoline  Front-wheel drive        0.0   \n",
       "2          15.1        2018  Europe  Gasoline  Front-wheel drive        0.0   \n",
       "3          20.2        2009     USA    Diesel    All-wheel drive        2.0   \n",
       "4          14.4        2009  Europe  Gasoline    All-wheel drive        2.0   \n",
       "\n",
       "   fuel_efficiency_mpg  \n",
       "0            13.231729  \n",
       "1            13.688217  \n",
       "2            14.246341  \n",
       "3            16.912736  \n",
       "4            12.488369  "
      ]
     },
     "execution_count": 8,
     "metadata": {},
     "output_type": "execute_result"
    }
   ],
   "source": [
    "fuel_effic_df.head()"
   ]
  },
  {
   "cell_type": "markdown",
   "id": "83db17f5-6e51-4927-8ce6-bb32fae05de1",
   "metadata": {},
   "source": [
    "Q2. Records count"
   ]
  },
  {
   "cell_type": "code",
   "execution_count": 7,
   "id": "c538c495-074b-4fa4-a2ce-253ff9a8e5f7",
   "metadata": {},
   "outputs": [
    {
     "data": {
      "text/plain": [
       "9704"
      ]
     },
     "execution_count": 7,
     "metadata": {},
     "output_type": "execute_result"
    }
   ],
   "source": [
    "fuel_effic_df.shape[0]"
   ]
  },
  {
   "cell_type": "markdown",
   "id": "b47b3e0b-4836-4316-bba6-abb0a7c0dfec",
   "metadata": {},
   "source": [
    "Q3. Fuel types"
   ]
  },
  {
   "cell_type": "code",
   "execution_count": 15,
   "id": "e4b1eb65-9e47-4d97-8259-745ed26f2647",
   "metadata": {},
   "outputs": [
    {
     "data": {
      "text/plain": [
       "2"
      ]
     },
     "execution_count": 15,
     "metadata": {},
     "output_type": "execute_result"
    }
   ],
   "source": [
    "len(fuel_effic_df['fuel_type'].unique())"
   ]
  },
  {
   "cell_type": "markdown",
   "id": "e3b145b5-16f3-4eaa-a186-09126c1ceb2a",
   "metadata": {},
   "source": [
    "Q4. Missing values"
   ]
  },
  {
   "cell_type": "code",
   "execution_count": 18,
   "id": "af27b725-1027-4fad-9a0e-b50ab0dbfee3",
   "metadata": {},
   "outputs": [
    {
     "data": {
      "text/plain": [
       "4"
      ]
     },
     "execution_count": 18,
     "metadata": {},
     "output_type": "execute_result"
    }
   ],
   "source": [
    "\n",
    "sum(fuel_effic_df.isna().sum() > 0)"
   ]
  },
  {
   "cell_type": "markdown",
   "id": "19decd56-d424-4e47-bdb8-82ac6bb90346",
   "metadata": {},
   "source": [
    "Q5. Max fuel efficiency"
   ]
  },
  {
   "cell_type": "code",
   "execution_count": 37,
   "id": "38ab0a8c-25aa-45c6-9965-13acb4ba64c1",
   "metadata": {},
   "outputs": [
    {
     "data": {
      "text/plain": [
       "np.float64(23.76)"
      ]
     },
     "execution_count": 37,
     "metadata": {},
     "output_type": "execute_result"
    }
   ],
   "source": [
    "round(fuel_effic_df[fuel_effic_df['origin'] == 'Asia'].fuel_efficiency_mpg.max(), 2)"
   ]
  },
  {
   "cell_type": "markdown",
   "id": "63057955-bb35-453e-8bb4-b8dde97e6dd3",
   "metadata": {},
   "source": [
    "Q6. Median value of horsepower"
   ]
  },
  {
   "cell_type": "code",
   "execution_count": 33,
   "id": "26683af0-d954-434b-ab0f-aa71e89d07c7",
   "metadata": {},
   "outputs": [
    {
     "data": {
      "text/plain": [
       "np.float64(149.0)"
      ]
     },
     "execution_count": 33,
     "metadata": {},
     "output_type": "execute_result"
    }
   ],
   "source": [
    "fuel_effic_df.horsepower.median()"
   ]
  },
  {
   "cell_type": "code",
   "execution_count": 53,
   "id": "e47f37eb-48e0-431b-a41f-737c9788b525",
   "metadata": {},
   "outputs": [],
   "source": [
    "# mode returns series, but need scalar\n",
    "mode_fuel_effic = fuel_effic_df.horsepower.mode()[0]"
   ]
  },
  {
   "cell_type": "code",
   "execution_count": 54,
   "id": "406df883-1c90-4844-a424-a63bce309245",
   "metadata": {},
   "outputs": [],
   "source": [
    "fuel_effic_df.horsepower.fillna(mode_fuel_effic, inplace=True)"
   ]
  },
  {
   "cell_type": "code",
   "execution_count": 55,
   "id": "c022c6b6-ccd6-4b29-9511-e76c1ed6270c",
   "metadata": {},
   "outputs": [
    {
     "data": {
      "text/plain": [
       "np.float64(152.0)"
      ]
     },
     "execution_count": 55,
     "metadata": {},
     "output_type": "execute_result"
    }
   ],
   "source": [
    "fuel_effic_df.horsepower.median()"
   ]
  },
  {
   "cell_type": "markdown",
   "id": "464a614e-f45c-41c5-beca-5cb0e2721005",
   "metadata": {},
   "source": [
    "higher than original median value"
   ]
  },
  {
   "cell_type": "markdown",
   "id": "880d2654-ec5e-424b-a812-150545b9b450",
   "metadata": {},
   "source": [
    "Q7. Sum of weights"
   ]
  },
  {
   "cell_type": "markdown",
   "id": "123cca1a-80af-433a-8ded-563681f480f6",
   "metadata": {},
   "source": [
    "Select all the cars from Asia<br>\n",
    "Select only columns vehicle_weight and model_year<br>\n",
    "Select the first 7 values<br>\n",
    "Get the underlying NumPy array. Let's call it X."
   ]
  },
  {
   "cell_type": "code",
   "execution_count": 71,
   "id": "5d32c5e5-b63d-4b34-a460-567ea1d0a64f",
   "metadata": {},
   "outputs": [],
   "source": [
    "X = fuel_effic_df[fuel_effic_df['origin'] == 'Asia'][['vehicle_weight', 'model_year']].head(7).values"
   ]
  },
  {
   "cell_type": "markdown",
   "id": "7f1fb301-cbeb-41df-a40a-b1ea5b48d50f",
   "metadata": {},
   "source": [
    "Compute matrix-matrix multiplication between the transpose of X and X. To get the transpose, use X.T. Let's call the result XTX"
   ]
  },
  {
   "cell_type": "code",
   "execution_count": 77,
   "id": "8a558a18-5d97-48fe-8cba-d2d2d2654e19",
   "metadata": {},
   "outputs": [],
   "source": [
    "XTX = X.T.dot(X)"
   ]
  },
  {
   "cell_type": "markdown",
   "id": "dcc2e7d5-566c-49e7-a89d-f8bf169c1b3d",
   "metadata": {},
   "source": [
    "Invert XTX\n",
    "Create an array y with values [1100, 1300, 800, 900, 1000, 1100, 1200]."
   ]
  },
  {
   "cell_type": "code",
   "execution_count": 80,
   "id": "ac2dc7bf-abc6-4857-a123-b788077ca8e6",
   "metadata": {},
   "outputs": [],
   "source": [
    "XTX_inverse = np.linalg.inv(XTX)\n",
    "y = np.array([1100, 1300, 800, 900, 1000, 1100, 1200])"
   ]
  },
  {
   "cell_type": "markdown",
   "id": "be2183dd-d313-479b-94ee-0a01d8112087",
   "metadata": {},
   "source": [
    "Multiply the inverse of XTX with the transpose of X, and then multiply the result by y. Call the result w."
   ]
  },
  {
   "cell_type": "code",
   "execution_count": 86,
   "id": "ddcf3579-acf3-4869-b014-0697ffa17f99",
   "metadata": {},
   "outputs": [],
   "source": [
    "w = XTX_inverse.dot(X.T).dot(y)"
   ]
  },
  {
   "cell_type": "code",
   "execution_count": 87,
   "id": "cd999677-4f08-4a0d-ac47-fcdbed1f2df8",
   "metadata": {},
   "outputs": [
    {
     "data": {
      "text/plain": [
       "np.float64(0.5187709081074016)"
      ]
     },
     "execution_count": 87,
     "metadata": {},
     "output_type": "execute_result"
    }
   ],
   "source": [
    "sum(w)"
   ]
  }
 ],
 "metadata": {
  "kernelspec": {
   "display_name": "Python 3 (ipykernel)",
   "language": "python",
   "name": "python3"
  },
  "language_info": {
   "codemirror_mode": {
    "name": "ipython",
    "version": 3
   },
   "file_extension": ".py",
   "mimetype": "text/x-python",
   "name": "python",
   "nbconvert_exporter": "python",
   "pygments_lexer": "ipython3",
   "version": "3.12.1"
  }
 },
 "nbformat": 4,
 "nbformat_minor": 5
}
